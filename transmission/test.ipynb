{
 "cells": [
  {
   "cell_type": "code",
   "execution_count": 7,
   "metadata": {},
   "outputs": [],
   "source": [
    "from __future__ import absolute_import, division, print_function"
   ]
  },
  {
   "cell_type": "code",
   "execution_count": 8,
   "metadata": {},
   "outputs": [],
   "source": [
    "import tensorflow as tf\n",
    "from dataProcessing import readAfterDSPDataInTxt,readSourceDataFromVPI\n",
    "import numpy as np\n",
    "rng = np.random"
   ]
  },
  {
   "cell_type": "code",
   "execution_count": 9,
   "metadata": {},
   "outputs": [],
   "source": [
    "# Parameters.\n",
    "learning_rate = 0.01\n",
    "training_steps = 1000\n",
    "display_step = 50"
   ]
  },
  {
   "cell_type": "code",
   "execution_count": 10,
   "metadata": {
    "scrolled": true
   },
   "outputs": [
    {
     "name": "stdout",
     "output_type": "stream",
     "text": [
      "[-2.90141193+2.63064032j -2.81521769-1.06264591j  1.02505341-0.78541548j\n",
      " ... -2.71590004+2.85962026j  1.11371932-1.02837059j\n",
      " -0.90020355-0.95577982j]\n",
      "[[-2.90141193  2.63064032]\n",
      " [-2.81521769 -1.06264591]\n",
      " [ 1.02505341 -0.78541548]\n",
      " ...\n",
      " [-2.71590004  2.85962026]\n",
      " [ 1.11371932 -1.02837059]\n",
      " [-0.90020355 -0.95577982]]\n",
      "[[[ 1. -1.]]\n",
      "\n",
      " [[-1. -1.]]\n",
      "\n",
      " [[-3. -1.]]\n",
      "\n",
      " ...\n",
      "\n",
      " [[ 1. -1.]]\n",
      "\n",
      " [[-3. -1.]]\n",
      "\n",
      " [[-1. -3.]]]\n"
     ]
    }
   ],
   "source": [
    "#Load data\n",
    "data_x=readAfterDSPDataInTxt('afterDSP_x.txt')\n",
    "# data_y=readAfterDSPDataInTxt('afterDSP_y.txt')\n",
    "resouce_x=readSourceDataFromVPI('bits_X.txt')\n",
    "# resouce_y=readSourceDataFromVPI('bits_Y.txt')\n",
    "# print(resouce_x.shape)\n",
    "print(data_x)\n",
    "\n",
    "#将复数数组转换成[[r,i]]数组\n",
    "data_ri_x=np.stack((data_x.real,data_x.imag),-1)\n",
    "source_ri_x=np.stack((resouce_x.real,resouce_x.imag),-1)\n",
    "print(data_ri_x)\n",
    "print(source_ri_x)\n",
    "\n",
    "# Load a numpy array using tf data api with `from_tensor_slices`.\n",
    "data = tf.data.Dataset.from_tensor_slices((data_ri_x, source_ri_x))\n",
    "# Refill data indefinitely.  \n",
    "data = data.repeat()\n",
    "# Shuffle data.\n",
    "data = data.shuffle(buffer_size=100)\n",
    "# Batch data (aggregate records together).\n",
    "data = data.batch(batch_size=4)\n",
    "# Prefetch batch (pre-load batch for faster consumption).\n",
    "data = data.prefetch(buffer_size=1)"
   ]
  },
  {
   "cell_type": "code",
   "execution_count": 11,
   "metadata": {},
   "outputs": [
    {
     "name": "stdout",
     "output_type": "stream",
     "text": [
      "tf.Tensor(\n",
      "[[-0.80201015 -2.91296718]\n",
      " [-2.77485051 -1.12735148]\n",
      " [ 1.02503486  0.9946743 ]\n",
      " [-2.76281307 -3.04943822]], shape=(4, 2), dtype=float64) tf.Tensor(\n",
      "[[[-1.  3.]]\n",
      "\n",
      " [[-1. -1.]]\n",
      "\n",
      " [[ 3.  1.]]\n",
      "\n",
      " [[-1.  1.]]], shape=(4, 1, 2), dtype=float64)\n",
      "tf.Tensor(\n",
      "[[ 0.81424623 -0.67649034]\n",
      " [-0.83270232 -0.64406755]\n",
      " [-2.76197069 -2.89895599]\n",
      " [-1.29783767  2.89556745]], shape=(4, 2), dtype=float64) tf.Tensor(\n",
      "[[[-3. -1.]]\n",
      "\n",
      " [[-1. -3.]]\n",
      "\n",
      " [[-1.  1.]]\n",
      "\n",
      " [[ 1. -3.]]], shape=(4, 1, 2), dtype=float64)\n",
      "tf.Tensor(\n",
      "[[-0.89285223  0.86169173]\n",
      " [-2.93400753 -1.16189352]\n",
      " [-3.15946925  2.5858418 ]\n",
      " [-2.87998551  1.99195784]], shape=(4, 2), dtype=float64) tf.Tensor(\n",
      "[[[ 1.  3.]]\n",
      "\n",
      " [[-1. -1.]]\n",
      "\n",
      " [[ 1. -1.]]\n",
      "\n",
      " [[ 1. -1.]]], shape=(4, 1, 2), dtype=float64)\n",
      "tf.Tensor(\n",
      "[[ 3.34787792 -2.81852136]\n",
      " [-1.03504781 -0.99932729]\n",
      " [-1.0756993   2.62979663]\n",
      " [ 0.85236448 -2.84770367]], shape=(4, 2), dtype=float64) tf.Tensor(\n",
      "[[[-3.  3.]]\n",
      "\n",
      " [[-1. -3.]]\n",
      "\n",
      " [[ 1. -3.]]\n",
      "\n",
      " [[-3.  1.]]], shape=(4, 1, 2), dtype=float64)\n",
      "tf.Tensor(\n",
      "[[ 1.01455721  1.26341237]\n",
      " [ 2.96010657 -0.9039647 ]\n",
      " [-2.79262616  0.47827914]\n",
      " [-3.23749964  2.84561773]], shape=(4, 2), dtype=float64) tf.Tensor(\n",
      "[[[ 3.  1.]]\n",
      "\n",
      " [[-3. -3.]]\n",
      "\n",
      " [[ 1.  1.]]\n",
      "\n",
      " [[ 1. -1.]]], shape=(4, 1, 2), dtype=float64)\n"
     ]
    }
   ],
   "source": [
    "for batch_x, batch_y in data.take(5):\n",
    "    print(batch_x, batch_y)"
   ]
  },
  {
   "cell_type": "code",
   "execution_count": 12,
   "metadata": {},
   "outputs": [
    {
     "name": "stdout",
     "output_type": "stream",
     "text": [
      "tf.Tensor(\n",
      "[[ 2.88953709 -2.83490263]\n",
      " [-2.82248642 -3.00900188]\n",
      " [-0.7992982  -2.89378703]\n",
      " [ 2.66566396 -0.96587498]], shape=(4, 2), dtype=float64) tf.Tensor(\n",
      "[[[-3.  3.]]\n",
      "\n",
      " [[-1.  1.]]\n",
      "\n",
      " [[-1.  3.]]\n",
      "\n",
      " [[-3. -3.]]], shape=(4, 1, 2), dtype=float64)\n",
      "tf.Tensor(\n",
      "[[ 2.60785085  2.62611939]\n",
      " [-2.62864549  0.84292861]\n",
      " [-3.06476194  0.7531055 ]\n",
      " [ 3.12939683 -0.67741472]], shape=(4, 2), dtype=float64) tf.Tensor(\n",
      "[[[ 3. -3.]]\n",
      "\n",
      " [[ 1.  1.]]\n",
      "\n",
      " [[ 1.  1.]]\n",
      "\n",
      " [[-3. -3.]]], shape=(4, 1, 2), dtype=float64)\n",
      "tf.Tensor(\n",
      "[[ 1.10689668 -0.96252452]\n",
      " [ 1.13275178 -1.06150124]\n",
      " [-2.79262616  0.47827914]\n",
      " [ 2.74075481  1.21184594]], shape=(4, 2), dtype=float64) tf.Tensor(\n",
      "[[[-3. -1.]]\n",
      "\n",
      " [[-3. -1.]]\n",
      "\n",
      " [[ 1.  1.]]\n",
      "\n",
      " [[ 3.  3.]]], shape=(4, 1, 2), dtype=float64)\n",
      "tf.Tensor(\n",
      "[[-1.29783767  2.89556745]\n",
      " [ 3.34787792 -2.81852136]\n",
      " [ 2.72080222  2.73953054]\n",
      " [-0.84898578  0.90437721]], shape=(4, 2), dtype=float64) tf.Tensor(\n",
      "[[[ 1. -3.]]\n",
      "\n",
      " [[-3.  3.]]\n",
      "\n",
      " [[ 3. -3.]]\n",
      "\n",
      " [[ 1.  3.]]], shape=(4, 1, 2), dtype=float64)\n",
      "tf.Tensor(\n",
      "[[ 3.02184126 -2.78841394]\n",
      " [-2.81521769 -1.06264591]\n",
      " [-0.4761581  -2.81522063]\n",
      " [ 0.81424623 -0.67649034]], shape=(4, 2), dtype=float64) tf.Tensor(\n",
      "[[[-3.  3.]]\n",
      "\n",
      " [[-1. -1.]]\n",
      "\n",
      " [[-1.  3.]]\n",
      "\n",
      " [[-3. -1.]]], shape=(4, 1, 2), dtype=float64)\n"
     ]
    }
   ],
   "source": [
    "# Note: If you are planning on calling multiple time,\n",
    "# you can user the iterator way:\n",
    "ite_data = iter(data)\n",
    "for i in range(5):\n",
    "    batch_x, batch_y = next(ite_data)\n",
    "    print(batch_x, batch_y)"
   ]
  },
  {
   "cell_type": "code",
   "execution_count": 13,
   "metadata": {},
   "outputs": [],
   "source": [
    "# Weight and Bias, initialized randomly.\n",
    "W = tf.Variable(rng.randn(), name=\"weight\")\n",
    "b = tf.Variable(rng.randn(), name=\"bias\")\n",
    "\n",
    "# Linear regression (Wx + b).\n",
    "def linear_regression(x):\n",
    "    return W * x + b\n",
    "\n",
    "# Mean square error.\n",
    "def mean_square(y_pred, y_true):\n",
    "    return tf.reduce_mean(tf.square(y_pred - y_true))\n",
    "\n",
    "# Stochastic Gradient Descent Optimizer.\n",
    "optimizer = tf.optimizers.SGD(learning_rate)"
   ]
  },
  {
   "cell_type": "code",
   "execution_count": 14,
   "metadata": {},
   "outputs": [],
   "source": [
    "# Optimization process. \n",
    "def run_optimization():\n",
    "    # Wrap computation inside a GradientTape for automatic differentiation.\n",
    "    with tf.GradientTape() as g:\n",
    "        pred = linear_regression(data_ri_x)\n",
    "        loss = mean_square(pred, source_ri_x)\n",
    "\n",
    "    # Compute gradients.\n",
    "    gradients = g.gradient(loss, [W, b])\n",
    "    \n",
    "    # Update W and b following gradients.\n",
    "    optimizer.apply_gradients(zip(gradients, [W, b]))"
   ]
  },
  {
   "cell_type": "code",
   "execution_count": null,
   "metadata": {},
   "outputs": [],
   "source": [
    "# Run training for the given number of steps.\n",
    "for step in range(1, training_steps + 1):\n",
    "    # Run the optimization to update W and b values.\n",
    "    run_optimization()\n",
    "    \n",
    "    if step % display_step == 0:\n",
    "        pred = linear_regression(data_ri_x)\n",
    "        loss = mean_square(pred, source_ri_x)\n",
    "        print(\"step: %i, loss: %f, W: %f, b: %f\" % (step, loss, W.numpy(), b.numpy()))"
   ]
  },
  {
   "cell_type": "code",
   "execution_count": null,
   "metadata": {},
   "outputs": [],
   "source": []
  },
  {
   "cell_type": "code",
   "execution_count": null,
   "metadata": {},
   "outputs": [],
   "source": []
  }
 ],
 "metadata": {
  "kernelspec": {
   "display_name": "Python 3",
   "language": "python",
   "name": "python3"
  },
  "language_info": {
   "codemirror_mode": {
    "name": "ipython",
    "version": 3
   },
   "file_extension": ".py",
   "mimetype": "text/x-python",
   "name": "python",
   "nbconvert_exporter": "python",
   "pygments_lexer": "ipython3",
   "version": "3.7.6"
  }
 },
 "nbformat": 4,
 "nbformat_minor": 1
}
